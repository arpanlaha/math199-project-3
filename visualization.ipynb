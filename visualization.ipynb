{
 "cells": [
  {
   "cell_type": "code",
   "execution_count": 94,
   "metadata": {},
   "outputs": [],
   "source": [
    "import matplotlib.pyplot as plt\n",
    "from matplotlib import cm\n",
    "import seaborn as sns\n",
    "from scipy.special import comb\n",
    "from matplotlib.ticker import LinearLocator, FormatStrFormatter\n",
    "import numpy as np"
   ]
  },
  {
   "cell_type": "code",
   "execution_count": 70,
   "metadata": {},
   "outputs": [],
   "source": [
    "def get_sequence_lengths():\n",
    "    sequence_lengths = {\"4\": [], \"5\": [], \"6\": [], \"7\": []}\n",
    "    \n",
    "    for num in range(0, 128):\n",
    "        seq = []\n",
    "        for power in range(6, -1, -1):\n",
    "            if num >= 2 ** power:\n",
    "                seq.append(1)\n",
    "                num -= 2 ** power\n",
    "            else:\n",
    "                seq.append(0)\n",
    "    \n",
    "        win_count = 0\n",
    "        loss_count = 0\n",
    "        length = 0\n",
    "\n",
    "        for game in range(7):\n",
    "            length += 1\n",
    "            \n",
    "            if seq[game] == 1:\n",
    "                win_count += 1\n",
    "            else:\n",
    "                loss_count += 1\n",
    "                \n",
    "            if win_count == 4 or loss_count == 4:\n",
    "                break\n",
    "                \n",
    "        sequence_lengths[str(length)].append(seq)\n",
    "        \n",
    "    return sequence_lengths\n",
    "    \n",
    "sequence_lengths = get_sequence_lengths()       "
   ]
  },
  {
   "cell_type": "code",
   "execution_count": 80,
   "metadata": {},
   "outputs": [],
   "source": [
    "def expected_length(series, ph, pa):\n",
    "    expected = 0\n",
    "    count = 0\n",
    "    for length in range(4, 8):        \n",
    "        for seq in sequence_lengths[str(length)]:\n",
    "            probability = 1\n",
    "            for game in range(7):\n",
    "                win = seq[game]\n",
    "                if win == 1:\n",
    "                    probability *= ph if series[game] == 1 else pa\n",
    "                else:                    \n",
    "                    probability *= (1 - ph) if series[game] == 1 else (1 - pa)\n",
    "            expected += probability * length\n",
    "            \n",
    "    return expected\n",
    "\n",
    "def seq_prob(seq, series, ph, pa):\n",
    "    probability = 1\n",
    "    for game in range(7):\n",
    "        win = seq[game]\n",
    "        if win == 1:\n",
    "            probability *= ph if series[game] == 1 else pa\n",
    "        else:\n",
    "            probability *= (1 - ph) if series[game] == 1 else (1 - pa)\n",
    "    return probability"
   ]
  },
  {
   "cell_type": "code",
   "execution_count": 86,
   "metadata": {},
   "outputs": [],
   "source": [
    "def gen_grid(series, phs, pas):\n",
    "    return [[expected_length(series, ph, pa) for pa in pas] for ph in phs]"
   ]
  },
  {
   "cell_type": "code",
   "execution_count": 87,
   "metadata": {},
   "outputs": [],
   "source": [
    "phs = np.linspace(0, 1, 100)\n",
    "pas = np.linspace(0, 1, 100)\n",
    "\n",
    "grid = np.array(gen_grid([1, 1, 0, 0, 1, 0, 1], phs, pas))"
   ]
  },
  {
   "cell_type": "code",
   "execution_count": null,
   "metadata": {},
   "outputs": [],
   "source": [
    "for angle in range(0,360,5):\n",
    "    fig = plt.figure(figsize=(20, 12))\n",
    "    ax = fig.gca(projection='3d')\n",
    "    surf = ax.plot_surface(phs, pas, grid,cmap=cm.viridis,\n",
    "                           linewidth=0, antialiased=False)\n",
    "\n",
    "    # Add a color bar which maps values to colors.\n",
    "    fig.colorbar(surf, shrink=0.5, aspect=5)\n",
    "#     plt.show()\n",
    "    filename='images/2-2/' + str(angle)+'.png'\n",
    "    plt.savefig(filename, dpi=96)\n",
    "    plt.gca()\n",
    "    print(angle)\n",
    "    plt.close()\n"
   ]
  },
  {
   "cell_type": "code",
   "execution_count": null,
   "metadata": {},
   "outputs": [],
   "source": []
  }
 ],
 "metadata": {
  "kernelspec": {
   "display_name": "Python 3",
   "language": "python",
   "name": "python3"
  },
  "language_info": {
   "codemirror_mode": {
    "name": "ipython",
    "version": 3
   },
   "file_extension": ".py",
   "mimetype": "text/x-python",
   "name": "python",
   "nbconvert_exporter": "python",
   "pygments_lexer": "ipython3",
   "version": "3.6.9"
  }
 },
 "nbformat": 4,
 "nbformat_minor": 4
}
